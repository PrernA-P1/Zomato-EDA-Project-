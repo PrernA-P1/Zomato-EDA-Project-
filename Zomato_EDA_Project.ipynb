{
 "cells": [
  {
   "cell_type": "markdown",
   "id": "0a97fc96",
   "metadata": {},
   "source": [
    "# 📊 Zomato Restaurant Data Analysis (EDA Project)\n",
    "\n",
    "This project analyzes the Zomato Bangalore restaurant dataset to explore restaurant ratings, cost patterns, and other insights using Python libraries like Pandas, Matplotlib, and Seaborn."
   ]
  },
  {
   "cell_type": "code",
   "execution_count": null,
   "id": "f5d5e131",
   "metadata": {},
   "outputs": [],
   "source": [
    "import pandas as pd\n",
    "import matplotlib.pyplot as plt\n",
    "import seaborn as sns\n",
    "\n",
    "# Display settings\n",
    "pd.set_option('display.max_columns', None)\n",
    "sns.set(style=\"whitegrid\")\n"
   ]
  },
  {
   "cell_type": "code",
   "execution_count": null,
   "id": "64f90844",
   "metadata": {},
   "outputs": [],
   "source": [
    "# Load the dataset\n",
    "df = pd.read_csv('zomato.csv')\n",
    "df.head()"
   ]
  },
  {
   "cell_type": "code",
   "execution_count": null,
   "id": "54aef180",
   "metadata": {},
   "outputs": [],
   "source": [
    "# Dataset information\n",
    "df.info()"
   ]
  },
  {
   "cell_type": "code",
   "execution_count": null,
   "id": "7f8f8d35",
   "metadata": {},
   "outputs": [],
   "source": [
    "# Check for missing values\n",
    "df.isnull().sum()"
   ]
  },
  {
   "cell_type": "code",
   "execution_count": null,
   "id": "4d53f5f7",
   "metadata": {},
   "outputs": [],
   "source": [
    "# Drop unnecessary columns\n",
    "df = df.drop(['url', 'address', 'phone', 'dish_liked'], axis=1)\n",
    "\n",
    "# Drop duplicates and missing values\n",
    "df.drop_duplicates(inplace=True)\n",
    "df.dropna(inplace=True)\n",
    "\n",
    "df.shape"
   ]
  },
  {
   "cell_type": "markdown",
   "id": "56205376",
   "metadata": {},
   "source": [
    "## 🔥 Top 10 Most Voted Restaurants"
   ]
  },
  {
   "cell_type": "code",
   "execution_count": null,
   "id": "b3fca4bc",
   "metadata": {},
   "outputs": [],
   "source": [
    "top_votes = df.sort_values(by='votes', ascending=False).head(10)\n",
    "plt.figure(figsize=(10,5))\n",
    "sns.barplot(x='name', y='votes', data=top_votes)\n",
    "plt.xticks(rotation=45)\n",
    "plt.title(\"Top 10 Most Voted Restaurants\")\n",
    "plt.show()"
   ]
  },
  {
   "cell_type": "markdown",
   "id": "34cd8d4a",
   "metadata": {},
   "source": [
    "## ⭐ Rating Distribution"
   ]
  },
  {
   "cell_type": "code",
   "execution_count": null,
   "id": "33781ba6",
   "metadata": {},
   "outputs": [],
   "source": [
    "sns.histplot(df['aggregate_rating'], bins=20, kde=True, color='purple')\n",
    "plt.title(\"Distribution of Restaurant Ratings\")\n",
    "plt.xlabel(\"Rating\")\n",
    "plt.ylabel(\"Count\")\n",
    "plt.show()"
   ]
  },
  {
   "cell_type": "markdown",
   "id": "ed8aad1e",
   "metadata": {},
   "source": [
    "## 💰 Price Range vs Cost for Two"
   ]
  },
  {
   "cell_type": "code",
   "execution_count": null,
   "id": "e0365639",
   "metadata": {},
   "outputs": [],
   "source": [
    "sns.boxplot(x='price_range', y='average_cost_for_two', data=df)\n",
    "plt.title(\"Price Range vs Average Cost for Two\")\n",
    "plt.xlabel(\"Price Range\")\n",
    "plt.ylabel(\"Cost for Two\")\n",
    "plt.show()"
   ]
  },
  {
   "cell_type": "markdown",
   "id": "3c0f8276",
   "metadata": {},
   "source": [
    "## 📌 Insights\n",
    "\n",
    "- Most restaurants have ratings between 3.0 and 4.0.\n",
    "- High-rated restaurants are mostly in higher price ranges.\n",
    "- Some restaurants receive high votes regardless of their average rating.\n",
    "- Cost for two is significantly different across price ranges.\n",
    "\n",
    "This EDA helps understand consumer preferences and restaurant patterns in Bangalore.\n"
   ]
  }
 ],
 "metadata": {},
 "nbformat": 4,
 "nbformat_minor": 5
}
